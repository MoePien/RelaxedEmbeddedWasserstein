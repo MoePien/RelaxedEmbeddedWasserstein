{
 "cells": [
  {
   "cell_type": "code",
   "execution_count": 1,
   "id": "f4fe34ae-9600-40df-9299-dd22cfd1db57",
   "metadata": {},
   "outputs": [
    {
     "name": "stdout",
     "output_type": "stream",
     "text": [
      "[pyKeOps] Compiling nvrtc binder for python ... \n",
      "[KeOps] Warning : There were warnings or errors :\n",
      "In file included from /homes/numerik/piening/.local/lib/python3.11/site-packages/pybind11/include/pybind11/detail/../attr.h:13:0,\n",
      "                 from /homes/numerik/piening/.local/lib/python3.11/site-packages/pybind11/include/pybind11/detail/class.h:12,\n",
      "                 from /homes/numerik/piening/.local/lib/python3.11/site-packages/pybind11/include/pybind11/pybind11.h:13,\n",
      "                 from /store/frege/datastore/piening/.local/lib/python3.11/site-packages/pykeops/common/keops_io/pykeops_nvrtc.cpp:9:\n",
      "/homes/numerik/piening/.local/lib/python3.11/site-packages/pybind11/include/pybind11/detail/../detail/common.h:266:10: fatal error: Python.h: No such file or directory\n",
      " #include <Python.h>\n",
      "          ^~~~~~~~~~\n",
      "compilation terminated.\n",
      "\n",
      "OK\n"
     ]
    }
   ],
   "source": [
    "import matplotlib.pyplot as plt\n",
    "import numpy as np\n",
    "import pyvista as pv\n",
    "import ot\n",
    "from REW_utils import *\n",
    "import matplotlib.pyplot as plt\n",
    "from IPython.display import SVG"
   ]
  },
  {
   "cell_type": "markdown",
   "id": "ce98ef83",
   "metadata": {},
   "source": [
    "## Input Spaces"
   ]
  },
  {
   "cell_type": "code",
   "execution_count": 2,
   "id": "de93446e",
   "metadata": {},
   "outputs": [],
   "source": [
    "pvX1 = pv.Sphere(start_phi = 0,end_phi=90,start_theta= 0,end_theta=90)\n",
    "pvX2 = pv.Sphere(start_phi = 120,end_phi=165,start_theta= 0)"
   ]
  },
  {
   "cell_type": "code",
   "execution_count": null,
   "id": "c7eb65a1",
   "metadata": {},
   "outputs": [],
   "source": [
    "%%capture\n",
    "\n",
    "pl = pv.Plotter(window_size=(300,300))\n",
    "pl.add_mesh(pvX1)\n",
    "pl.save_graphic(\"img/Sphere1_org.svg\")"
   ]
  },
  {
   "cell_type": "code",
   "execution_count": 1,
   "id": "c21b2c56-0479-480c-8428-4e6800b7feae",
   "metadata": {},
   "outputs": [],
   "source": [
    "# SVG(\"img_sphere/Sphere1_org.svg\")"
   ]
  },
  {
   "cell_type": "code",
   "execution_count": null,
   "id": "bd084f31",
   "metadata": {},
   "outputs": [],
   "source": [
    "pl = pv.Plotter(window_size=(300,300))\n",
    "pl.add_mesh(pvX2)\n",
    "pl.save_graphic(\"img/Sphere2_org.svg\")"
   ]
  },
  {
   "cell_type": "code",
   "execution_count": 2,
   "id": "cff45ebf-2f47-4ff5-9c1c-051b06b4b3bf",
   "metadata": {},
   "outputs": [],
   "source": [
    "# SVG(\"img_sphere/Sphere2_org.svg\")"
   ]
  },
  {
   "cell_type": "markdown",
   "id": "24ee94ed-dac0-4f2e-91f8-ed2d54ac9bc8",
   "metadata": {},
   "source": [
    "## Preprocessing"
   ]
  },
  {
   "cell_type": "code",
   "execution_count": 5,
   "id": "b7b48e19",
   "metadata": {},
   "outputs": [],
   "source": [
    "#convert to mm-spaces (metric spaces with measures)\n",
    "\n",
    "X1 = GM(X=np.array(pvX1.points,dtype=\"d\"),Tris=pvX1.faces.reshape((-1, 4))[:,1:],\n",
    "        mode=\"surface\",gauge_mode=\"djikstra\",xi=\"surface_uniform\",normalize_gauge=True,squared=False)\n",
    "\n",
    "X2 = GM(X=np.array(pvX2.points,dtype=\"d\"),Tris=pvX2.faces.reshape((-1, 4))[:,1:],\n",
    "        mode=\"surface\",gauge_mode=\"djikstra\",xi=\"surface_uniform\",normalize_gauge=True,squared=False)\n"
   ]
  },
  {
   "cell_type": "markdown",
   "id": "5710cb0c-3059-4b76-8099-fbf5f1829b76",
   "metadata": {},
   "source": [
    "## Run Joint Embedding"
   ]
  },
  {
   "cell_type": "code",
   "execution_count": 6,
   "id": "d4ab62fa-e70f-46e7-8179-bce7c0103d54",
   "metadata": {},
   "outputs": [
    {
     "name": "stdout",
     "output_type": "stream",
     "text": [
      "---Parameter Setting---\n",
      "eps:  0.001 lambda:  1000.0 Domain  Sphere\n"
     ]
    },
    {
     "name": "stderr",
     "output_type": "stream",
     "text": [
      "100%|█████████████████████████████████████████████████████████████████████████████████████████████████████████████████████████████████████████████████████████████████████████████████████████████████████████████████████████████████████████| 50/50 [00:45<00:00,  1.09it/s]\n"
     ]
    }
   ],
   "source": [
    "Z_name = \"Sphere\"\n",
    "n = 30\n",
    "max_len = 1.3 # Set Reference Space to spherical 30 x 30 grid with maximum distance equal to 1.3\n",
    "m, ZZ, Z, gamma_X1Y1,gamma_Y2X2,zeta1,zeta2 = Wrapper_REW(X1, X2, n=n, n_its=50, eps=1e-3, \n",
    "                                                         lambda_GW=1e3, thres=0.,\n",
    "                                                         Z_name =Z_name, max_len=max_len)"
   ]
  },
  {
   "cell_type": "markdown",
   "id": "b3d457c3-edec-43ea-8704-ed55e74c8d14",
   "metadata": {},
   "source": [
    "## Save Embeddings"
   ]
  },
  {
   "cell_type": "code",
   "execution_count": 7,
   "id": "e0636f05",
   "metadata": {},
   "outputs": [],
   "source": [
    "pl = pv.Plotter(window_size=(300,300))\n",
    "pl.add_mesh(m,scalars=zeta1 / ZZ.xi)\n",
    "pl.camera_position = 'yz'\n",
    "pl.remove_scalar_bar()\n",
    "pl.save_graphic(\"img_sphere/Sphere1_em.svg\")\n",
    "\n",
    "pl = pv.Plotter(window_size=(300,300))\n",
    "pl.add_mesh(m,scalars=zeta2 / ZZ.xi)\n",
    "pl.camera_position = 'yz'\n",
    "pl.remove_scalar_bar()\n",
    "pl.save_graphic(\"img_sphere/Sphere2_em.svg\")\n",
    "\n",
    "# See directories bc Juypter was unable to display output"
   ]
  }
 ],
 "metadata": {
  "kernelspec": {
   "display_name": "Python 3 (ipykernel)",
   "language": "python",
   "name": "python3"
  },
  "language_info": {
   "codemirror_mode": {
    "name": "ipython",
    "version": 3
   },
   "file_extension": ".py",
   "mimetype": "text/x-python",
   "name": "python",
   "nbconvert_exporter": "python",
   "pygments_lexer": "ipython3",
   "version": "3.11.11"
  }
 },
 "nbformat": 4,
 "nbformat_minor": 5
}
