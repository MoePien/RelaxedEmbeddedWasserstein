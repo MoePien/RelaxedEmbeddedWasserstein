{
 "cells": [
  {
   "cell_type": "markdown",
   "id": "bd101202-9f64-46f8-be84-8065f88bc578",
   "metadata": {},
   "source": [
    "# JOINT LATENT SPACE EMBEDDING\n",
    "\n",
    "This notebook reproduces the experiment on alignment of FashionMNIST latent spaces from Section C of the Supplement of our paper."
   ]
  },
  {
   "cell_type": "code",
   "execution_count": 8,
   "id": "cfec76a7-cfe5-46bf-b471-01208b396379",
   "metadata": {},
   "outputs": [],
   "source": [
    "%%capture\n",
    "\n",
    "import numpy as np\n",
    "import pyvista as pv\n",
    "import ot\n",
    "import torch\n",
    "from sklearn import datasets\n",
    "from REW_utils import *\n",
    "import pandas as pd\n",
    "import matplotlib.pyplot as plt\n",
    "import pyvista as pv\n",
    "import time\n",
    "from sklearn.neighbors import KNeighborsClassifier\n",
    "import sklearn\n",
    "import seaborn as sns\n",
    "import time\n",
    "import seaborn as sns\n",
    "torch.manual_seed(42)\n",
    "np.random.seed(42)\n"
   ]
  },
  {
   "cell_type": "markdown",
   "id": "f84c8388-0149-4169-8517-007836bd9259",
   "metadata": {},
   "source": [
    "## Data Preprocessing"
   ]
  },
  {
   "cell_type": "code",
   "execution_count": 2,
   "id": "33e5259b-6558-4f5a-9f1b-447c7c5724f8",
   "metadata": {},
   "outputs": [],
   "source": [
    "# Use 100 samples\n",
    "N = 100\n",
    "\n",
    "\n",
    "# Load Two Datasets \n",
    "classes = np.load(\"data_latent_space_FashionMNIST/classes_fmnist.npy\")[:N]\n",
    "P1 = np.load(\"data_latent_space_FashionMNIST/ae_enc_fmnist.npy\")[:N]\n",
    "P2 = np.load(\"data_latent_space_FashionMNIST/vae_enc_fmnist.npy\")[:N]\n",
    "classes1 = classes\n",
    "classes2 = classes\n",
    "classes_org = classes\n",
    "\n",
    "# Use 10 % Validation Split\n",
    "N_test = int(P1.shape[0]/10)\n",
    "classes_test = classes_org[:N_test]\n",
    "classes_eval = classes_org[N_test:]\n",
    "\n",
    "# Define Colors\n",
    "cols1 = [sns.color_palette()[i] for i in classes1]\n",
    "cols2 = [sns.color_palette()[i] for i in classes2]\n",
    "\n",
    "# Define them as discrete Euclidean metric spaces with uniform weights and unit distance\n",
    "X1 = GM(X=P1, mode=\"euclidean\", gauge_mode=\"euclidean\", squared=False, normalize_gauge=True)\n",
    "X2 = GM(X=P2, mode=\"euclidean\", gauge_mode=\"euclidean\",squared=False, normalize_gauge=True)"
   ]
  },
  {
   "cell_type": "markdown",
   "id": "d8424351-9f73-43b5-a308-8084e33807a6",
   "metadata": {},
   "source": [
    "## Run and Evaluate $\\lambda$-embedded Wasserstein"
   ]
  },
  {
   "cell_type": "code",
   "execution_count": 7,
   "id": "a9e91526-35bc-448b-929a-7c0a8709520e",
   "metadata": {},
   "outputs": [
    {
     "name": "stdout",
     "output_type": "stream",
     "text": [
      "---Parameter Setting---\n",
      "eps:  0.001 lambda:  0.01 Domain  Plane\n"
     ]
    },
    {
     "name": "stderr",
     "output_type": "stream",
     "text": [
      "100%|█████████████████████████████████████████████████████████████████████████████████████████████████████████████████████████████████████████████████████████████████████████████████████████████████████████████████████████████████████████| 50/50 [00:01<00:00, 47.85it/s]\n"
     ]
    },
    {
     "name": "stdout",
     "output_type": "stream",
     "text": [
      "Test foscttm: 0.422\n",
      "\n",
      "---Parameter Setting---\n",
      "eps:  0.001 lambda:  0.1 Domain  Plane\n"
     ]
    },
    {
     "name": "stderr",
     "output_type": "stream",
     "text": [
      "100%|█████████████████████████████████████████████████████████████████████████████████████████████████████████████████████████████████████████████████████████████████████████████████████████████████████████████████████████████████████████| 50/50 [00:01<00:00, 45.62it/s]\n"
     ]
    },
    {
     "name": "stdout",
     "output_type": "stream",
     "text": [
      "Test foscttm: 0.189\n",
      "\n",
      "---Parameter Setting---\n",
      "eps:  0.001 lambda:  1.0 Domain  Plane\n"
     ]
    },
    {
     "name": "stderr",
     "output_type": "stream",
     "text": [
      "100%|█████████████████████████████████████████████████████████████████████████████████████████████████████████████████████████████████████████████████████████████████████████████████████████████████████████████████████████████████████████| 50/50 [00:03<00:00, 15.98it/s]\n"
     ]
    },
    {
     "name": "stdout",
     "output_type": "stream",
     "text": [
      "Test foscttm: 0.033\n",
      "\n",
      "---Parameter Setting---\n",
      "eps:  0.001 lambda:  10.0 Domain  Plane\n"
     ]
    },
    {
     "name": "stderr",
     "output_type": "stream",
     "text": [
      "100%|█████████████████████████████████████████████████████████████████████████████████████████████████████████████████████████████████████████████████████████████████████████████████████████████████████████████████████████████████████████| 50/50 [00:11<00:00,  4.49it/s]\n"
     ]
    },
    {
     "name": "stdout",
     "output_type": "stream",
     "text": [
      "Test foscttm: 0.100\n",
      "\n",
      "---Parameter Setting---\n",
      "eps:  0.001 lambda:  100.0 Domain  Plane\n"
     ]
    },
    {
     "name": "stderr",
     "output_type": "stream",
     "text": [
      "100%|█████████████████████████████████████████████████████████████████████████████████████████████████████████████████████████████████████████████████████████████████████████████████████████████████████████████████████████████████████████| 50/50 [00:01<00:00, 35.99it/s]"
     ]
    },
    {
     "name": "stdout",
     "output_type": "stream",
     "text": [
      "Test foscttm: 0.056\n",
      "\n",
      "Final Results:\n",
      "foscttm:  0.040\n",
      "Accuracy kNN: 0.589\n"
     ]
    },
    {
     "name": "stderr",
     "output_type": "stream",
     "text": [
      "\n"
     ]
    }
   ],
   "source": [
    "eps=1e-3 # Entropic regularizer\n",
    "thres = 1e-5 # Set values smaller than \"thres\" to 0. in embeddings\n",
    "\n",
    "Z_type = \"Plane\"\n",
    "max_len = 1.3 \n",
    "n=20 # # Reference space is a 20x20 grid on Euclidean Square (\"Plane\") of size [0., 1.3]^2\n",
    "\n",
    "lambda_GW_ls = [.01, .1, 1., 10., 100.] # Hyperparameter grid over GW entropy regularizer lambda\n",
    "\n",
    "f_final = 1 # Worst possible FOCSTTM\n",
    "for lambda_GW in lambda_GW_ls:\n",
    "    m, ZZ, Z, gamma_X1,gamma_X2,zeta1,zeta2 = Wrapper_REW(X1, X2, n=n, n_its=50, eps=eps, \n",
    "                                                                         lambda_GW=lambda_GW, thres=thres,\n",
    "                                                                         Z_name=Z_type, max_len=max_len)\n",
    "    X1_embed = euclidean_barycenter_projection(gamma_X1, Z)\n",
    "    X2_embed = euclidean_barycenter_projection(gamma_X2.transpose(0, 1), Z)\n",
    "    est_dist_mat_r = torch.cdist(torch.from_numpy(X1_embed), torch.from_numpy(X2_embed)).numpy()\n",
    "    f = calculate_foscttm(est_dist_mat_r[:N_test, :N_test])\n",
    "    print(f\"Test foscttm: {f:.3f}\\n\")\n",
    "    if f < f_final: # We keep the embedding with the best validation foscttm\n",
    "        X1_embed_final = X1_embed[N_test:]\n",
    "        X2_embed_final = X2_embed[N_test:]\n",
    "        est_dist_mat_r_final = est_dist_mat_r[N_test:, N_test:]\n",
    "        f_final = f\n",
    "        zeta1_final = zeta1\n",
    "        m_fin, ZZ_fin, Z_fin = m, ZZ, Z\n",
    "        gamma_X1_fin,gamma_X2_fin,zeta1_fin,zeta2_fin  = gamma_X1,gamma_X2,zeta1,zeta2\n",
    "\n",
    "print(\"Final Results:\")\n",
    "est_dist_mat_r = est_dist_mat_r_final\n",
    "print(f\"foscttm:  {calculate_foscttm(est_dist_mat_r):.3f}\")\n",
    "neigh = KNeighborsClassifier(n_neighbors=5, metric=\"precomputed\")\n",
    "neigh.fit(est_dist_mat_r, y=classes_eval)\n",
    "y_pred = neigh.predict(est_dist_mat_r)#.shape\n",
    "print(f\"Accuracy kNN: {sklearn.metrics.accuracy_score(classes_eval, y_pred):.3f}\")\n",
    "X1_embed = X1_embed_final\n",
    "X2_embed = X2_embed_final"
   ]
  },
  {
   "cell_type": "markdown",
   "id": "ad63aacf-b1dd-4cff-82de-9fd2a073f235",
   "metadata": {},
   "source": [
    "## Visualize Joint Embeddings\n",
    "\n",
    "We see that color-coded classes in the upper and lower scatter plots are aligned. \n",
    "The k-NN was also able to do domain adaptation by predicting classes."
   ]
  },
  {
   "cell_type": "code",
   "execution_count": 4,
   "id": "db88b2ce-56e7-448e-93de-41a490e3a58c",
   "metadata": {},
   "outputs": [
    {
     "data": {
      "image/png": "[encoded data removed]",
      "text/plain": [
       "<Figure size 500x500 with 1 Axes>"
      ]
     },
     "metadata": {},
     "output_type": "display_data"
    },
    {
     "data": {
      "image/png": "[encoded data removed]",
      "text/plain": [
       "<Figure size 500x500 with 1 Axes>"
      ]
     },
     "metadata": {},
     "output_type": "display_data"
    }
   ],
   "source": [
    "f, ax = plt.subplots(1, 1, figsize=(5, 5))\n",
    "ax.scatter(X1_embed[:, 0],X1_embed[:, 1], c=[sns.color_palette()[c] for c in classes[N_test:]])#.shape\n",
    "ax.set_xticks([])\n",
    "ax.set_yticks([])\n",
    "v = .7\n",
    "ax.set_ylim(-v, v)\n",
    "ax.set_xlim(-v, v)\n",
    "plt.show()\n",
    "\n",
    "f, ax = plt.subplots(1, 1, figsize=(5, 5))\n",
    "ax.scatter(X2_embed[:, 0],X2_embed[:, 1], c=[sns.color_palette()[c] for c in classes[N_test:]], marker=\"x\")#.shape\n",
    "ax.set_xticks([])\n",
    "ax.set_yticks([])\n",
    "ax.set_ylim(-v, v)\n",
    "ax.set_xlim(-v, v)\n",
    "plt.show()"
   ]
  },
  {
   "cell_type": "code",
   "execution_count": null,
   "id": "c00fa7ef-8e6b-48cc-bd57-b4a4f66a99ee",
   "metadata": {},
   "outputs": [],
   "source": []
  }
 ],
 "metadata": {
  "kernelspec": {
   "display_name": "Python 3 (ipykernel)",
   "language": "python",
   "name": "python3"
  },
  "language_info": {
   "codemirror_mode": {
    "name": "ipython",
    "version": 3
   },
   "file_extension": ".py",
   "mimetype": "text/x-python",
   "name": "python",
   "nbconvert_exporter": "python",
   "pygments_lexer": "ipython3",
   "version": "3.11.11"
  }
 },
 "nbformat": 4,
 "nbformat_minor": 5
}
